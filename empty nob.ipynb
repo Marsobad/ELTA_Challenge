{
 "cells": [],
 "metadata": {
  "createdOn": 1684758886095,
  "creator": "admin",
  "customFields": {},
  "hide_input": false,
  "kernelspec": {
   "display_name": "Python (env solution_financial-forecasting)",
   "language": "python",
   "name": "py-dku-venv-solution_financial-forecasting"
  },
  "language_info": {
   "codemirror_mode": {
    "name": "ipython",
    "version": 3
   },
   "file_extension": ".py",
   "mimetype": "text/x-python",
   "name": "python",
   "nbconvert_exporter": "python",
   "pygments_lexer": "ipython3",
   "version": "3.7.16"
  },
  "modifiedBy": "admin",
  "tags": []
 },
 "nbformat": 4,
 "nbformat_minor": 1
}
